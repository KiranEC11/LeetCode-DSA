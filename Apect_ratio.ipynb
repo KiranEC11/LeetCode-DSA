{
  "nbformat": 4,
  "nbformat_minor": 0,
  "metadata": {
    "colab": {
      "provenance": [],
      "authorship_tag": "ABX9TyOoqMIdeG1q/Jio+EgZI2c5",
      "include_colab_link": true
    },
    "kernelspec": {
      "name": "python3",
      "display_name": "Python 3"
    },
    "language_info": {
      "name": "python"
    }
  },
  "cells": [
    {
      "cell_type": "markdown",
      "metadata": {
        "id": "view-in-github",
        "colab_type": "text"
      },
      "source": [
        "<a href=\"https://colab.research.google.com/github/KiranEC11/LeetCode-DSA/blob/main/Apect_ratio.ipynb\" target=\"_parent\"><img src=\"https://colab.research.google.com/assets/colab-badge.svg\" alt=\"Open In Colab\"/></a>"
      ]
    },
    {
      "cell_type": "code",
      "execution_count": null,
      "metadata": {
        "colab": {
          "base_uri": "https://localhost:8080/"
        },
        "id": "urajnuk_7xbC",
        "outputId": "3f0385b3-1816-4df6-8eab-37fb48cb4978"
      },
      "outputs": [
        {
          "name": "stdout",
          "output_type": "stream",
          "text": [
            "3\n"
          ]
        }
      ],
      "source": [
        "a = input()"
      ]
    },
    {
      "cell_type": "markdown",
      "source": [
        "# factorial"
      ],
      "metadata": {
        "id": "XjZWp8AMIKC2"
      }
    },
    {
      "cell_type": "code",
      "source": [
        "def factorial(n):\n",
        "    fact = 1\n",
        "    for i in range(1,n+1):\n",
        "        fact *= i\n",
        "    return fact"
      ],
      "metadata": {
        "id": "e33IESIH70SM"
      },
      "execution_count": null,
      "outputs": []
    },
    {
      "cell_type": "code",
      "source": [
        "factorial(5)"
      ],
      "metadata": {
        "colab": {
          "base_uri": "https://localhost:8080/"
        },
        "id": "xdqeFXl08Cis",
        "outputId": "0d4f6b4c-e36b-497d-f6c7-695357b59939"
      },
      "execution_count": null,
      "outputs": [
        {
          "output_type": "execute_result",
          "data": {
            "text/plain": [
              "120"
            ]
          },
          "metadata": {},
          "execution_count": 3
        }
      ]
    },
    {
      "cell_type": "code",
      "source": [
        "a= input()\n",
        "\n",
        "a_list = list(map(int, a.split(' ')))"
      ],
      "metadata": {
        "colab": {
          "base_uri": "https://localhost:8080/"
        },
        "id": "LojyaoQo8EUs",
        "outputId": "04aa3b47-036b-41cd-bd8e-8a9aa743548f"
      },
      "execution_count": null,
      "outputs": [
        {
          "name": "stdout",
          "output_type": "stream",
          "text": [
            "6 7 8 9 90\n"
          ]
        }
      ]
    },
    {
      "cell_type": "code",
      "source": [
        "a_list"
      ],
      "metadata": {
        "colab": {
          "base_uri": "https://localhost:8080/"
        },
        "id": "-gGQJDab8OU0",
        "outputId": "6fb78a89-8282-4e04-fe0f-65de2b05d6f8"
      },
      "execution_count": null,
      "outputs": [
        {
          "output_type": "execute_result",
          "data": {
            "text/plain": [
              "[6, 7, 8, 9, 90]"
            ]
          },
          "metadata": {},
          "execution_count": 6
        }
      ]
    },
    {
      "cell_type": "code",
      "source": [
        "type(a_list[0])"
      ],
      "metadata": {
        "colab": {
          "base_uri": "https://localhost:8080/"
        },
        "id": "tldAtT_C8U6s",
        "outputId": "eda8ddc1-8b66-4af6-af21-9fd74a07a96d"
      },
      "execution_count": null,
      "outputs": [
        {
          "output_type": "execute_result",
          "data": {
            "text/plain": [
              "int"
            ]
          },
          "metadata": {},
          "execution_count": 7
        }
      ]
    },
    {
      "cell_type": "markdown",
      "source": [
        "## buy and sell"
      ],
      "metadata": {
        "id": "rOQniWslIME8"
      }
    },
    {
      "cell_type": "code",
      "source": [
        "def MaxProfit(arr, pocket):\n",
        "    if not arr:\n",
        "        return 0\n",
        "    j=0\n",
        "    while j<len(arr)-1 and arr[j]>pocket:\n",
        "        j+=1\n",
        "    print(j)\n",
        "\n",
        "    p_min = arr[j]\n",
        "    profit = 0\n",
        "    for i in range(j,len(arr)):\n",
        "        cost = arr[i]-  p_min\n",
        "        profit = max(profit, cost)\n",
        "        p_min = min(arr[i], p_min)\n",
        "    return profit"
      ],
      "metadata": {
        "id": "x_7cqDJ18XFD"
      },
      "execution_count": null,
      "outputs": []
    },
    {
      "cell_type": "code",
      "source": [
        "MaxProfit([10, 7,9,50], 8)"
      ],
      "metadata": {
        "colab": {
          "base_uri": "https://localhost:8080/"
        },
        "id": "XwKsHYMZ9eKh",
        "outputId": "5bc00923-4c16-4749-cfe7-e56aed4b425c"
      },
      "execution_count": null,
      "outputs": [
        {
          "output_type": "stream",
          "name": "stdout",
          "text": [
            "1\n"
          ]
        },
        {
          "output_type": "execute_result",
          "data": {
            "text/plain": [
              "43"
            ]
          },
          "metadata": {},
          "execution_count": 17
        }
      ]
    },
    {
      "cell_type": "code",
      "source": [
        "def sum(N):\n",
        "    if N%2==0:\n",
        "        N-=1\n",
        "    m = (N-1)/2+1\n",
        "    return int(m**2)"
      ],
      "metadata": {
        "id": "YKFHLXMV9hJY"
      },
      "execution_count": null,
      "outputs": []
    },
    {
      "cell_type": "code",
      "source": [
        "sum(6)"
      ],
      "metadata": {
        "colab": {
          "base_uri": "https://localhost:8080/"
        },
        "id": "AxttReOx_I0Y",
        "outputId": "ece97470-5389-4cca-ffee-ea83b45fcdef"
      },
      "execution_count": null,
      "outputs": [
        {
          "output_type": "execute_result",
          "data": {
            "text/plain": [
              "9"
            ]
          },
          "metadata": {},
          "execution_count": 24
        }
      ]
    },
    {
      "cell_type": "markdown",
      "source": [
        "## longest palindrome"
      ],
      "metadata": {
        "id": "bu1ubL-MA6B-"
      }
    },
    {
      "cell_type": "code",
      "source": [
        "def longest_pal(s):\n",
        "    def expand(l,r):\n",
        "        while l>=0 and r<= len(s)-1 and s[l]==s[r]:\n",
        "            l-=1\n",
        "            r+=1\n",
        "        return s[l+1:r]\n",
        "\n",
        "\n",
        "    result= ''\n",
        "    for i in range(len(s)):\n",
        "        pal = expand(i,i)\n",
        "        if len(pal)>len(result):\n",
        "            result = pal\n",
        "        pal = expand(i,i+1)\n",
        "        if len(pal)>len(result):\n",
        "            result = pal\n",
        "    return result\n"
      ],
      "metadata": {
        "id": "TSAD4L1R_WNS"
      },
      "execution_count": null,
      "outputs": []
    },
    {
      "cell_type": "code",
      "source": [
        "longest_pal('gmalayalamfgf')"
      ],
      "metadata": {
        "colab": {
          "base_uri": "https://localhost:8080/",
          "height": 35
        },
        "id": "CntWxdYqAR5h",
        "outputId": "5f3b6696-97dd-4a3e-8670-7db515e2cb2f"
      },
      "execution_count": null,
      "outputs": [
        {
          "output_type": "execute_result",
          "data": {
            "text/plain": [
              "'malayalam'"
            ],
            "application/vnd.google.colaboratory.intrinsic+json": {
              "type": "string"
            }
          },
          "metadata": {},
          "execution_count": 32
        }
      ]
    },
    {
      "cell_type": "code",
      "source": [],
      "metadata": {
        "id": "ra8QWV7TAX6W"
      },
      "execution_count": null,
      "outputs": []
    }
  ]
}