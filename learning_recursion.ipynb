{
  "nbformat": 4,
  "nbformat_minor": 0,
  "metadata": {
    "colab": {
      "provenance": [],
      "authorship_tag": "ABX9TyNlpy2HcMOGOzKUz3vnNlYs",
      "include_colab_link": true
    },
    "kernelspec": {
      "name": "python3",
      "display_name": "Python 3"
    },
    "language_info": {
      "name": "python"
    }
  },
  "cells": [
    {
      "cell_type": "markdown",
      "metadata": {
        "id": "view-in-github",
        "colab_type": "text"
      },
      "source": [
        "<a href=\"https://colab.research.google.com/github/KiranEC11/LeetCode-DSA/blob/main/learning_recursion.ipynb\" target=\"_parent\"><img src=\"https://colab.research.google.com/assets/colab-badge.svg\" alt=\"Open In Colab\"/></a>"
      ]
    },
    {
      "cell_type": "markdown",
      "source": [
        "# print name N times"
      ],
      "metadata": {
        "id": "sXmuM-t5MgGr"
      }
    },
    {
      "cell_type": "code",
      "execution_count": null,
      "metadata": {
        "id": "2EFGZogsMNvD"
      },
      "outputs": [],
      "source": [
        "def Print_name(name:str, N:int, count=0):\n",
        "    if count==N:\n",
        "        return\n",
        "    print(name)\n",
        "    Print_name(name,N,count+1)\n",
        "    return"
      ]
    },
    {
      "cell_type": "code",
      "source": [
        "Print_name('Kiran', 5)"
      ],
      "metadata": {
        "colab": {
          "base_uri": "https://localhost:8080/"
        },
        "id": "LYeAz8K4NBvZ",
        "outputId": "5212aeac-96cb-4bd6-f15d-6eae451f5551"
      },
      "execution_count": null,
      "outputs": [
        {
          "output_type": "stream",
          "name": "stdout",
          "text": [
            "Kiran\n",
            "Kiran\n",
            "Kiran\n",
            "Kiran\n",
            "Kiran\n"
          ]
        }
      ]
    },
    {
      "cell_type": "markdown",
      "source": [
        "# print linearly from 1 to N\n",
        "\n",
        "time complexity = O(n)\n",
        "\n",
        "space = O(n)"
      ],
      "metadata": {
        "id": "q6uVs5XzO0OQ"
      }
    },
    {
      "cell_type": "code",
      "source": [
        "def Linear(N:int, count=1):\n",
        "    if count > N:\n",
        "        return\n",
        "    print(count)\n",
        "    Linear(N,count+1)\n",
        "    return"
      ],
      "metadata": {
        "id": "fWj2lhVYNOGh"
      },
      "execution_count": null,
      "outputs": []
    },
    {
      "cell_type": "code",
      "source": [
        "Linear(10)"
      ],
      "metadata": {
        "colab": {
          "base_uri": "https://localhost:8080/"
        },
        "id": "3atzE_g-PS8Y",
        "outputId": "be2bd7c2-2c89-400b-9ebc-3f23cdf66033"
      },
      "execution_count": null,
      "outputs": [
        {
          "output_type": "stream",
          "name": "stdout",
          "text": [
            "1\n",
            "2\n",
            "3\n",
            "4\n",
            "5\n",
            "6\n",
            "7\n",
            "8\n",
            "9\n",
            "10\n"
          ]
        }
      ]
    },
    {
      "cell_type": "markdown",
      "source": [
        "# print linearly from N to 1, N>1\n",
        "\n",
        "time complexity = O(n)\n",
        "\n",
        "space = O(n)"
      ],
      "metadata": {
        "id": "qnTWtIxwPrhT"
      }
    },
    {
      "cell_type": "code",
      "source": [
        "def Opp_Linear(N, count=0):\n",
        "    if count==N:\n",
        "        return\n",
        "    print(N-count)\n",
        "    Opp_Linear(N, count+1)\n",
        "    return\n"
      ],
      "metadata": {
        "id": "GTPBbrncPVFw"
      },
      "execution_count": null,
      "outputs": []
    },
    {
      "cell_type": "code",
      "source": [
        "Opp_Linear(10)"
      ],
      "metadata": {
        "colab": {
          "base_uri": "https://localhost:8080/"
        },
        "id": "h_V5nfK2QJx6",
        "outputId": "3fbee1ea-02ef-4c46-c41f-4af91f7d0160"
      },
      "execution_count": null,
      "outputs": [
        {
          "output_type": "stream",
          "name": "stdout",
          "text": [
            "10\n",
            "9\n",
            "8\n",
            "7\n",
            "6\n",
            "5\n",
            "4\n",
            "3\n",
            "2\n",
            "1\n"
          ]
        }
      ]
    },
    {
      "cell_type": "code",
      "source": [
        "def Opp_Linear(N, count):\n",
        "    if count==0:\n",
        "        return\n",
        "    print(count)\n",
        "    Opp_Linear(N, count-1)\n",
        "    return\n"
      ],
      "metadata": {
        "id": "WHAxg8YpQLrZ"
      },
      "execution_count": null,
      "outputs": []
    },
    {
      "cell_type": "code",
      "source": [
        "Opp_Linear(10,10)"
      ],
      "metadata": {
        "colab": {
          "base_uri": "https://localhost:8080/"
        },
        "id": "cchpFYwpQeF0",
        "outputId": "37157b0b-0565-4f8a-d194-d4c78f36f06c"
      },
      "execution_count": null,
      "outputs": [
        {
          "output_type": "stream",
          "name": "stdout",
          "text": [
            "10\n",
            "9\n",
            "8\n",
            "7\n",
            "6\n",
            "5\n",
            "4\n",
            "3\n",
            "2\n",
            "1\n"
          ]
        }
      ]
    },
    {
      "cell_type": "markdown",
      "source": [
        "# backtracking"
      ],
      "metadata": {
        "id": "bONJMHs5SczG"
      }
    },
    {
      "cell_type": "markdown",
      "source": [
        "# print linearly from N to 1, N>1 , using backtracking\n",
        "\n",
        "time complexity = O(n)\n",
        "\n",
        "space = O(n)"
      ],
      "metadata": {
        "id": "noMQ19eXSgwn"
      }
    },
    {
      "cell_type": "code",
      "source": [
        "def Backtrack_N(N, count):\n",
        "    if count>N:\n",
        "        return\n",
        "    Backtrack_N(N, count+1)\n",
        "    print(count)\n",
        "    return"
      ],
      "metadata": {
        "id": "-WNqx0xWQjY5"
      },
      "execution_count": null,
      "outputs": []
    },
    {
      "cell_type": "code",
      "source": [
        "Backtrack_N(10, 1)"
      ],
      "metadata": {
        "colab": {
          "base_uri": "https://localhost:8080/"
        },
        "id": "ORv2SmaaS_RI",
        "outputId": "ec3a7d99-76ad-4600-c39a-8b425c1eb1ce"
      },
      "execution_count": null,
      "outputs": [
        {
          "output_type": "stream",
          "name": "stdout",
          "text": [
            "10\n",
            "9\n",
            "8\n",
            "7\n",
            "6\n",
            "5\n",
            "4\n",
            "3\n",
            "2\n",
            "1\n"
          ]
        }
      ]
    },
    {
      "cell_type": "markdown",
      "source": [
        "In backtracking the print comes after the function calls. Hence count is incremented in each call but not printed. Printed starts from backwards."
      ],
      "metadata": {
        "id": "55sXICRETFBg"
      }
    },
    {
      "cell_type": "markdown",
      "source": [
        "# print linearly from 1 to N, using backtracking\n",
        "\n",
        "time complexity = O(n)\n",
        "\n",
        "space = O(n)"
      ],
      "metadata": {
        "id": "cDkft1XATVgl"
      }
    },
    {
      "cell_type": "code",
      "source": [
        "def Back_N(N, count):\n",
        "    if count<1:\n",
        "        return\n",
        "    Back_N(N, count-1)\n",
        "    print(count)\n",
        "    return"
      ],
      "metadata": {
        "id": "58S7bbkETCJb"
      },
      "execution_count": null,
      "outputs": []
    },
    {
      "cell_type": "code",
      "source": [
        "Back_N(10,10)"
      ],
      "metadata": {
        "colab": {
          "base_uri": "https://localhost:8080/"
        },
        "id": "K4N3FKmwTpki",
        "outputId": "593932e1-78ce-4e80-ffc3-0d551776e2e4"
      },
      "execution_count": null,
      "outputs": [
        {
          "output_type": "stream",
          "name": "stdout",
          "text": [
            "1\n",
            "2\n",
            "3\n",
            "4\n",
            "5\n",
            "6\n",
            "7\n",
            "8\n",
            "9\n",
            "10\n"
          ]
        }
      ]
    },
    {
      "cell_type": "markdown",
      "source": [
        "## sum of first N numbers"
      ],
      "metadata": {
        "id": "RYoIa4EqVH1D"
      }
    },
    {
      "cell_type": "markdown",
      "source": [
        "### parameterised way: printing"
      ],
      "metadata": {
        "id": "UOBHoND-YzMG"
      }
    },
    {
      "cell_type": "code",
      "source": [
        "def sum_firstN(N):\n",
        "    def sum_first_N(N, sum,count):\n",
        "        if count > N:\n",
        "            print(sum)\n",
        "            return\n",
        "        sum_first_N(N, sum+ count, count+1)\n",
        "    sum_first_N(N, 0, 1)"
      ],
      "metadata": {
        "id": "uA-inyBSTvkL"
      },
      "execution_count": null,
      "outputs": []
    },
    {
      "cell_type": "code",
      "source": [
        "sum_firstN(10)"
      ],
      "metadata": {
        "colab": {
          "base_uri": "https://localhost:8080/"
        },
        "id": "V9F-jYd4WBBL",
        "outputId": "561c810e-fe39-4ffa-b7f0-16072fd05940"
      },
      "execution_count": null,
      "outputs": [
        {
          "output_type": "stream",
          "name": "stdout",
          "text": [
            "55\n"
          ]
        }
      ]
    },
    {
      "cell_type": "markdown",
      "source": [
        "#### same question as above :  functional return"
      ],
      "metadata": {
        "id": "aR3IKlbtY2Xg"
      }
    },
    {
      "cell_type": "code",
      "source": [
        "def sum_firstN(N):\n",
        "    def sum_first_N(N, sum,count):\n",
        "        if count > N:\n",
        "            # print(sum)\n",
        "            return sum\n",
        "        out = sum_first_N(N, sum+ count, count+1)\n",
        "        return out\n",
        "    return sum_first_N(N, 0, 1)"
      ],
      "metadata": {
        "id": "8s9JoRD0WClQ"
      },
      "execution_count": null,
      "outputs": []
    },
    {
      "cell_type": "code",
      "source": [
        "sum_firstN(10)"
      ],
      "metadata": {
        "colab": {
          "base_uri": "https://localhost:8080/"
        },
        "id": "91Oi190eZO1l",
        "outputId": "9d14a30c-5018-427d-acf8-e22c74be613c"
      },
      "execution_count": null,
      "outputs": [
        {
          "output_type": "execute_result",
          "data": {
            "text/plain": [
              "55"
            ]
          },
          "metadata": {},
          "execution_count": 43
        }
      ]
    },
    {
      "cell_type": "markdown",
      "source": [
        "## same que  in functional way"
      ],
      "metadata": {
        "id": "bqD5LW0Raey4"
      }
    },
    {
      "cell_type": "code",
      "source": [
        "def f(n):\n",
        "    if n==0:\n",
        "        return 0\n",
        "    return n + f(n-1)"
      ],
      "metadata": {
        "id": "mVv5lGhBZTdS"
      },
      "execution_count": null,
      "outputs": []
    },
    {
      "cell_type": "code",
      "source": [
        "f(10)"
      ],
      "metadata": {
        "colab": {
          "base_uri": "https://localhost:8080/"
        },
        "id": "XHE_w0KWavxJ",
        "outputId": "1371693d-13aa-40fc-d9bc-7774f90f36bf"
      },
      "execution_count": null,
      "outputs": [
        {
          "output_type": "execute_result",
          "data": {
            "text/plain": [
              "55"
            ]
          },
          "metadata": {},
          "execution_count": 45
        }
      ]
    },
    {
      "cell_type": "markdown",
      "source": [
        "### factorial"
      ],
      "metadata": {
        "id": "J3OihFbIbxUm"
      }
    },
    {
      "cell_type": "code",
      "source": [
        "def fact(n):\n",
        "    if n==1:\n",
        "        return 1\n",
        "    return n * fact(n-1)"
      ],
      "metadata": {
        "id": "4nC06Bjeaw2i"
      },
      "execution_count": null,
      "outputs": []
    },
    {
      "cell_type": "code",
      "source": [
        "fact(5)"
      ],
      "metadata": {
        "colab": {
          "base_uri": "https://localhost:8080/"
        },
        "id": "fPKsUBvlb9sg",
        "outputId": "0958c521-8410-4c38-d569-03d81ae87d7c"
      },
      "execution_count": null,
      "outputs": [
        {
          "output_type": "execute_result",
          "data": {
            "text/plain": [
              "120"
            ]
          },
          "metadata": {},
          "execution_count": 47
        }
      ]
    },
    {
      "cell_type": "markdown",
      "source": [
        "# reversing an array"
      ],
      "metadata": {
        "id": "aT8y3QNOHy3P"
      }
    },
    {
      "cell_type": "code",
      "source": [
        "## using swap method\n",
        "\n",
        "def reverse_swap(arr: list):\n",
        "    l=0\n",
        "    r=len(arr)-1\n",
        "    while l<r:\n",
        "        arr[l], arr[r] = arr[r], arr[l]\n",
        "        l+=1\n",
        "        r-=1\n",
        "    return arr"
      ],
      "metadata": {
        "id": "5le7xxB1b_JR"
      },
      "execution_count": null,
      "outputs": []
    },
    {
      "cell_type": "code",
      "source": [
        "reverse_swap([1,2,3,4,5,6])"
      ],
      "metadata": {
        "colab": {
          "base_uri": "https://localhost:8080/"
        },
        "id": "iYor1m63IV7H",
        "outputId": "862b426f-5b18-4d38-f2e8-de1a797fcb78"
      },
      "execution_count": null,
      "outputs": [
        {
          "output_type": "execute_result",
          "data": {
            "text/plain": [
              "[6, 5, 4, 3, 2, 1]"
            ]
          },
          "metadata": {},
          "execution_count": 3
        }
      ]
    },
    {
      "cell_type": "code",
      "source": [
        "## using recursion\n",
        "\n",
        "def rev_array_rec(arr:list):\n",
        "\n",
        "    def Swap(arr,l,r):\n",
        "        if l>r:\n",
        "            return\n",
        "        arr[l],arr[r] = arr[r], arr[l]\n",
        "        Swap(arr, l+1, r-1)\n",
        "        return arr\n",
        "    return Swap(arr,0,len(arr)-1)\n",
        "\n"
      ],
      "metadata": {
        "id": "BlxqeJKfIYg9"
      },
      "execution_count": 6,
      "outputs": []
    },
    {
      "cell_type": "code",
      "source": [
        "rev_array_rec([1,2,3,4,5,6])"
      ],
      "metadata": {
        "colab": {
          "base_uri": "https://localhost:8080/"
        },
        "id": "bsK2u5TxS7X_",
        "outputId": "dc2d7070-917f-4d6a-c8fc-e77da928730c"
      },
      "execution_count": 7,
      "outputs": [
        {
          "output_type": "execute_result",
          "data": {
            "text/plain": [
              "[6, 5, 4, 3, 2, 1]"
            ]
          },
          "metadata": {},
          "execution_count": 7
        }
      ]
    },
    {
      "cell_type": "code",
      "source": [
        "## using recursion with one pointer\n",
        "\n",
        "def rev_array_rec(arr:list):\n",
        "\n",
        "    def Swap(arr,i):\n",
        "        if i>= len(arr)/2:\n",
        "            return\n",
        "        arr[i],arr[len(arr)-1-i] = arr[len(arr)-1-i], arr[i]\n",
        "        Swap(arr,i+1)\n",
        "        return arr\n",
        "    return Swap(arr,0)\n",
        "\n"
      ],
      "metadata": {
        "id": "I6LZwgk6S93C"
      },
      "execution_count": 10,
      "outputs": []
    },
    {
      "cell_type": "code",
      "source": [
        "rev_array_rec([1,2,3,4,5,6])"
      ],
      "metadata": {
        "colab": {
          "base_uri": "https://localhost:8080/"
        },
        "id": "fakhin5lVuIZ",
        "outputId": "cfce04a4-52c3-4ff8-8581-64bf0f53fb23"
      },
      "execution_count": 11,
      "outputs": [
        {
          "output_type": "execute_result",
          "data": {
            "text/plain": [
              "[6, 5, 4, 3, 2, 1]"
            ]
          },
          "metadata": {},
          "execution_count": 11
        }
      ]
    },
    {
      "cell_type": "markdown",
      "source": [
        "## check if given string is a palindrome or not"
      ],
      "metadata": {
        "id": "eeB62te3Wxxp"
      }
    },
    {
      "cell_type": "code",
      "source": [
        "def Palindrome(string: str):\n",
        "    n = len(string)\n",
        "    def palindrome(string, i, n:int):\n",
        "        if i >=n/2:\n",
        "            return True\n",
        "        if string[i] == string[n-1-i]:\n",
        "            r = palindrome(string, i+1, n)\n",
        "        else:\n",
        "            r= False\n",
        "        return r\n",
        "    return palindrome(string, 0, n)\n",
        "\n",
        "\n",
        ""
      ],
      "metadata": {
        "id": "IahlUeFgW1ra"
      },
      "execution_count": 14,
      "outputs": []
    },
    {
      "cell_type": "code",
      "source": [
        "Palindrome('madam')"
      ],
      "metadata": {
        "colab": {
          "base_uri": "https://localhost:8080/"
        },
        "id": "1Ai1MAahYQMX",
        "outputId": "6eada92c-1e7c-42c8-9963-efb722bf0961"
      },
      "execution_count": 19,
      "outputs": [
        {
          "output_type": "execute_result",
          "data": {
            "text/plain": [
              "True"
            ]
          },
          "metadata": {},
          "execution_count": 19
        }
      ]
    },
    {
      "cell_type": "code",
      "source": [
        "## same problem as above with slight modifications\n",
        "# I removed r\n",
        "\n",
        "def Palindrome(string: str):\n",
        "    n = len(string)\n",
        "    def palindrome(string, i, n:int):\n",
        "        if i >=n/2:\n",
        "            return True\n",
        "        if string[i] == string[n-1-i]:\n",
        "            return palindrome(string, i+1, n)\n",
        "        else:\n",
        "            return False\n",
        "\n",
        "    return palindrome(string, 0, n)\n",
        "\n",
        "\n",
        ""
      ],
      "metadata": {
        "id": "QPp0OrUgYSGD"
      },
      "execution_count": 20,
      "outputs": []
    },
    {
      "cell_type": "code",
      "source": [
        "Palindrome('madam')"
      ],
      "metadata": {
        "colab": {
          "base_uri": "https://localhost:8080/"
        },
        "id": "cuNtGYtyalmd",
        "outputId": "413b6656-c553-42a0-9bc1-d1a1685678dd"
      },
      "execution_count": 21,
      "outputs": [
        {
          "output_type": "execute_result",
          "data": {
            "text/plain": [
              "True"
            ]
          },
          "metadata": {},
          "execution_count": 21
        }
      ]
    },
    {
      "cell_type": "markdown",
      "source": [
        "# multiple recursion calls"
      ],
      "metadata": {
        "id": "RFre5J9XdQP0"
      }
    },
    {
      "cell_type": "markdown",
      "source": [
        "### Fibonacci numbers"
      ],
      "metadata": {
        "id": "K6qJ6bHodSsC"
      }
    },
    {
      "cell_type": "code",
      "source": [
        "# input is length of fibonacci series --> return fibonacci series of that length\n",
        "\n",
        "def Fibonacci(n: int):\n",
        "    arr = [0,1]\n",
        "    def f(arr,n, i):\n",
        "        if i>=n-2:\n",
        "            return\n",
        "        arr.append(arr[-1]+arr[-2])\n",
        "        f(arr,n, i+1)\n",
        "        return arr\n",
        "    return f(arr,n,0)"
      ],
      "metadata": {
        "id": "kYKNFrFDdR_e"
      },
      "execution_count": 22,
      "outputs": []
    },
    {
      "cell_type": "code",
      "source": [
        "Fibonacci(10)"
      ],
      "metadata": {
        "colab": {
          "base_uri": "https://localhost:8080/"
        },
        "id": "ggQ6jPrDeND2",
        "outputId": "4fa74125-102a-42cf-b64f-80f803a3c832"
      },
      "execution_count": 23,
      "outputs": [
        {
          "output_type": "execute_result",
          "data": {
            "text/plain": [
              "[0, 1, 1, 2, 3, 5, 8, 13, 21, 34]"
            ]
          },
          "metadata": {},
          "execution_count": 23
        }
      ]
    },
    {
      "cell_type": "code",
      "source": [
        "# input n: return nth fibonacci number\n",
        "\n",
        "# input is length of fibonacci series --> return fibonacci series of that length\n",
        "\n",
        "def Fibonacci(n: int):\n",
        "    arr = [0,1]\n",
        "    if n>2:\n",
        "        def f(arr,n, i):\n",
        "            if i>=n-2:\n",
        "                return\n",
        "            arr.append(arr[-1]+arr[-2])\n",
        "            f(arr,n, i+1)\n",
        "            return arr\n",
        "        return f(arr,n,0)[-1]\n",
        "    else:\n",
        "        return arr[n-1]"
      ],
      "metadata": {
        "id": "LX6Krwc-eOmj"
      },
      "execution_count": 28,
      "outputs": []
    },
    {
      "cell_type": "code",
      "source": [
        "Fibonacci(50)"
      ],
      "metadata": {
        "colab": {
          "base_uri": "https://localhost:8080/"
        },
        "id": "p76v6ICHfVlg",
        "outputId": "ef4180f6-3ea0-4ef0-e228-9f437db31229"
      },
      "execution_count": 36,
      "outputs": [
        {
          "output_type": "execute_result",
          "data": {
            "text/plain": [
              "7778742049"
            ]
          },
          "metadata": {},
          "execution_count": 36
        }
      ]
    },
    {
      "cell_type": "code",
      "source": [
        "## same code without appending\n",
        "\n",
        "def Fibo(n:int):\n",
        "    # arr=[0,1]\n",
        "    if n>2:\n",
        "        def f(a,b,i):  ## a--> previous to previous, b--> previous i --> th element in series\n",
        "            if i>n-2:\n",
        "                return b\n",
        "            ans = f(b,a+b,i+1)\n",
        "            return ans\n",
        "        return f(0,1,1) ## i=1 in initialisation\n",
        "    else:\n",
        "        return n-1"
      ],
      "metadata": {
        "id": "LvotJuRdfXZt"
      },
      "execution_count": 6,
      "outputs": []
    },
    {
      "cell_type": "code",
      "source": [
        "Fibo(6)"
      ],
      "metadata": {
        "colab": {
          "base_uri": "https://localhost:8080/"
        },
        "id": "p0WJZ6GihAj_",
        "outputId": "429bd03b-14e4-495a-b551-c565a3aa4ac7"
      },
      "execution_count": 19,
      "outputs": [
        {
          "output_type": "execute_result",
          "data": {
            "text/plain": [
              "5"
            ]
          },
          "metadata": {},
          "execution_count": 19
        }
      ]
    },
    {
      "cell_type": "code",
      "source": [
        "### same question as above but with two recursiion calls\n",
        "\n",
        "## slight change here n-- is index (0 to ...)\n",
        "\n",
        "## exponential time complexity\n",
        "\n",
        "def Fibo_(n):\n",
        "    def f(n):\n",
        "        if n<=1:\n",
        "            return n\n",
        "        # last = f(n-1)\n",
        "        # sec_last = f(n-2)\n",
        "        return f(n-1) + f(n-2)\n",
        "    return f(n)"
      ],
      "metadata": {
        "id": "e88HwqpphCGW"
      },
      "execution_count": 21,
      "outputs": []
    },
    {
      "cell_type": "code",
      "source": [
        "Fibo_(5)  ## 3rd index, 4th element"
      ],
      "metadata": {
        "colab": {
          "base_uri": "https://localhost:8080/"
        },
        "id": "4Hkcc-LE4qED",
        "outputId": "e6a7d342-7522-4f7a-93c0-f2f1869ffb20"
      },
      "execution_count": 22,
      "outputs": [
        {
          "output_type": "execute_result",
          "data": {
            "text/plain": [
              "5"
            ]
          },
          "metadata": {},
          "execution_count": 22
        }
      ]
    },
    {
      "cell_type": "markdown",
      "source": [
        "# subset sum"
      ],
      "metadata": {
        "id": "E_96pOIuFUzw"
      }
    },
    {
      "cell_type": "code",
      "source": [
        "def Subset_sum(arr):\n",
        "    N = len(arr)\n",
        "    ans=[]\n",
        "    def f(arr, sum, i,N):\n",
        "        if i>N-1:\n",
        "            ans.append(sum)\n",
        "            # return ans\n",
        "            # print(sum)\n",
        "        else:\n",
        "            f(arr, sum+arr[i], i+1, N)\n",
        "            f(arr, sum, i+1, N)\n",
        "        return ans\n",
        "    return f(arr, 0, 0, N)"
      ],
      "metadata": {
        "id": "ygZNQAMD4ro9"
      },
      "execution_count": 46,
      "outputs": []
    },
    {
      "cell_type": "code",
      "source": [
        "Subset_sum([2,3])"
      ],
      "metadata": {
        "colab": {
          "base_uri": "https://localhost:8080/"
        },
        "id": "E5OgK5TnGBMM",
        "outputId": "9b0748d9-9e97-42b3-cfc8-1c45f8b911df"
      },
      "execution_count": 47,
      "outputs": [
        {
          "output_type": "execute_result",
          "data": {
            "text/plain": [
              "[5, 2, 3, 0]"
            ]
          },
          "metadata": {},
          "execution_count": 47
        }
      ]
    },
    {
      "cell_type": "markdown",
      "source": [
        "## Unique subsets"
      ],
      "metadata": {
        "id": "u4RLl5s_Py95"
      }
    },
    {
      "cell_type": "code",
      "source": [
        "class Solution:\n",
        "    def subsetsWithDup(self, nums: List[int]) -> List[List[int]]:\n",
        "        ans= []\n",
        "        def f(self,index,subset,ans):\n",
        "            if index == len(nums):\n",
        "                subset.sort()\n",
        "                if subset not in ans:\n",
        "                    ans.append(subset)\n",
        "                return\n",
        "            f(self, index+1, subset+[nums[index]],ans)\n",
        "            f(self, index+1, subset, ans)\n",
        "            return\n",
        "        f(self, 0,[],ans)\n",
        "        return ans\n",
        "\n",
        "\n",
        "\n",
        "\n",
        "\n",
        "    # def subsetsWithDup(self, nums: List[int]) -> List[List[int]]:\n",
        "    #     ans = []\n",
        "    #     res = set()\n",
        "\n",
        "\n",
        "    #     def fun(index: int, ds: List[int]):\n",
        "    #         if index == len(nums):\n",
        "    #             ds.sort()\n",
        "    #             res.add(tuple(ds))\n",
        "    #             return\n",
        "    #         ds.append(nums[index])\n",
        "    #         fun(index + 1, ds)\n",
        "    #         ds.pop()\n",
        "    #         fun(index + 1, ds)\n",
        "    #     fun(0, [])\n",
        "    #     for it in res:\n",
        "    #         ans.append(list(it))\n",
        "    #     return ans\n",
        "\n"
      ],
      "metadata": {
        "id": "VvokkePGIQV9"
      },
      "execution_count": null,
      "outputs": []
    }
  ]
}