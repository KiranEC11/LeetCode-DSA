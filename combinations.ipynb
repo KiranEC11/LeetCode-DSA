{
  "nbformat": 4,
  "nbformat_minor": 0,
  "metadata": {
    "colab": {
      "provenance": [],
      "authorship_tag": "ABX9TyPbl6MZkOslHSPwb503LWqo",
      "include_colab_link": true
    },
    "kernelspec": {
      "name": "python3",
      "display_name": "Python 3"
    },
    "language_info": {
      "name": "python"
    }
  },
  "cells": [
    {
      "cell_type": "markdown",
      "metadata": {
        "id": "view-in-github",
        "colab_type": "text"
      },
      "source": [
        "<a href=\"https://colab.research.google.com/github/KiranEC11/LeetCode-DSA/blob/main/combinations.ipynb\" target=\"_parent\"><img src=\"https://colab.research.google.com/assets/colab-badge.svg\" alt=\"Open In Colab\"/></a>"
      ]
    },
    {
      "cell_type": "code",
      "execution_count": 6,
      "metadata": {
        "colab": {
          "base_uri": "https://localhost:8080/"
        },
        "id": "bVX14r9qvlxI",
        "outputId": "583fa69b-42fb-49c4-c986-5e78654efbbb"
      },
      "outputs": [
        {
          "output_type": "stream",
          "name": "stdout",
          "text": [
            "{'eXAMPlE', 'eXamPle', 'examPLE', 'ExAmpLe', 'EXampLe', 'exAMpLE', 'ExaMPLe', 'EXAMplE', 'eXAMPLE', 'exaMPLE', 'EXamPLE', 'exaMpLe', 'eXamPlE', 'eXAmPlE', 'eXAmPle', 'ExaMpLE', 'EXaMpLE', 'ExAMPLE', 'exAmPLe', 'ExAmPlE', 'eXaMPle', 'eXAmplE', 'exAMPLe', 'examPlE', 'exAmpLe', 'exAMPlE', 'eXaMpLE', 'ExAMple', 'EXaMPLE', 'EXamPle', 'exAmpLE', 'eXamPLE', 'ExamplE', 'eXAMple', 'exAMpLe', 'exaMPle', 'ExAmplE', 'exaMPLe', 'EXAMpLe', 'EXAmplE', 'EXAMple', 'eXaMPLe', 'ExAMpLE', 'exampLE', 'EXamPLe', 'eXamplE', 'ExampLE', 'exampLe', 'ExAmPLe', 'ExAmPLE', 'exaMpLE', 'EXaMple', 'exAmple', 'exAmPLE', 'EXampLE', 'ExaMpLe', 'exAMple', 'EXaMPLe', 'ExamPLE', 'ExaMPLE', 'ExAMpLe', 'exAmPlE', 'ExAMPle', 'eXAMPle', 'ExaMple', 'Example', 'EXaMPlE', 'eXAMPLe', 'EXample', 'examplE', 'eXampLe', 'EXAMPlE', 'eXaMplE', 'EXAmpLe', 'ExAMPLe', 'ExAMplE', 'ExAmPle', 'eXAMpLe', 'eXAmpLe', 'EXAmPLe', 'ExampLe', 'EXAMpLE', 'EXAMPLe', 'exaMplE', 'eXaMpLe', 'ExAmple', 'exAMPLE', 'exAMPle', 'example', 'EXaMplE', 'exAMplE', 'ExamPle', 'examPLe', 'eXAmple', 'exaMPlE', 'examPle', 'EXAmPlE', 'eXAMpLE', 'ExaMPle', 'ExamPLe', 'ExaMPlE', 'EXAmpLE', 'eXampLE', 'exAmplE', 'EXaMpLe', 'eXAmPLe', 'EXAMPLE', 'eXaMple', 'eXAmpLE', 'EXAmPLE', 'exAmPle', 'EXaMPle', 'eXample', 'eXAMplE', 'ExAmpLE', 'EXAmPle', 'ExAMPlE', 'eXamPLe', 'eXaMPlE', 'EXamPlE', 'exaMple', 'EXAmple', 'eXAmPLE', 'ExamPlE', 'EXamplE', 'ExaMplE', 'eXaMPLE', 'EXAMPle'}\n"
          ]
        }
      ],
      "source": [
        "def generate_case_variations(word):\n",
        "    variations = set()\n",
        "\n",
        "    def generate_helper(current_word, index):\n",
        "        if index == len(word):\n",
        "            variations.add(current_word)\n",
        "            return\n",
        "\n",
        "        # Generate variations by converting the letter to uppercase and lowercase\n",
        "        generate_helper(current_word + word[index].upper(), index + 1)\n",
        "        generate_helper(current_word + word[index].lower(), index + 1)\n",
        "\n",
        "    generate_helper(\"\", 0)\n",
        "    return variations\n",
        "\n",
        "# Example usage:\n",
        "word = \"example\"\n",
        "variations = generate_case_variations(word)\n",
        "print(variations)\n"
      ]
    },
    {
      "cell_type": "code",
      "source": [
        "def Variations(word: str):\n",
        "    def generate_variations(word_list, index):\n",
        "        if index == len(word_list):\n",
        "            return ' '.join(word_list)\n",
        "\n",
        "        item = word_list[index]\n",
        "        modified_word = item[0].lower() + item[1:] if item[0].isupper() else item[0].upper() + item[1:]\n",
        "        word_list[index] = modified_word\n",
        "\n",
        "        with_current_index = generate_variations(word_list, index + 1)\n",
        "        word_list[index] = item  # Restore the original word\n",
        "        without_current_index = generate_variations(word_list, index + 1)\n",
        "\n",
        "        return f\"{with_current_index}\\n{without_current_index}\"\n",
        "\n",
        "    word_list = word.split()\n",
        "    return generate_variations(word_list, 0)\n",
        "\n",
        "word = \"Hello World\"\n",
        "variations = Variations(word)\n",
        "print(variations)\n"
      ],
      "metadata": {
        "id": "-DVkHqu3xGnT",
        "colab": {
          "base_uri": "https://localhost:8080/"
        },
        "outputId": "87b56445-752b-4a9a-c9ef-ae46d92f5cc4"
      },
      "execution_count": 19,
      "outputs": [
        {
          "output_type": "stream",
          "name": "stdout",
          "text": [
            "hello world\n",
            "hello World\n",
            "Hello world\n",
            "Hello World\n"
          ]
        }
      ]
    },
    {
      "cell_type": "code",
      "source": [
        "len(variations.split('\\n'))"
      ],
      "metadata": {
        "colab": {
          "base_uri": "https://localhost:8080/"
        },
        "id": "-w8uY7a_Bia5",
        "outputId": "329d767d-3bb5-47ce-a30d-43780412a620"
      },
      "execution_count": 17,
      "outputs": [
        {
          "output_type": "execute_result",
          "data": {
            "text/plain": [
              "8"
            ]
          },
          "metadata": {},
          "execution_count": 17
        }
      ]
    },
    {
      "cell_type": "code",
      "source": [
        "print(variations)"
      ],
      "metadata": {
        "colab": {
          "base_uri": "https://localhost:8080/"
        },
        "id": "zGIcFy9RBunR",
        "outputId": "7e074119-1ae2-405f-d57a-4af4fcbc12ba"
      },
      "execution_count": 18,
      "outputs": [
        {
          "output_type": "stream",
          "name": "stdout",
          "text": [
            "hello world kiran\n",
            "hello world Kiran\n",
            "hello World kiran\n",
            "hello World Kiran\n",
            "Hello world kiran\n",
            "Hello world Kiran\n",
            "Hello World kiran\n",
            "Hello World Kiran\n"
          ]
        }
      ]
    },
    {
      "cell_type": "code",
      "source": [],
      "metadata": {
        "id": "zKip6irkBznI"
      },
      "execution_count": null,
      "outputs": []
    }
  ]
}