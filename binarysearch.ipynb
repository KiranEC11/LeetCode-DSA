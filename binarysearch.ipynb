{
 "cells": [
  {
   "cell_type": "markdown",
   "metadata": {},
   "source": [
    "## time complexity = $O(log_2(n))$"
   ]
  },
  {
   "cell_type": "markdown",
   "metadata": {},
   "source": [
    "## iterative way"
   ]
  },
  {
   "cell_type": "code",
   "execution_count": 1,
   "metadata": {},
   "outputs": [],
   "source": [
    "\n",
    "\n",
    "def Binsearch(arr, target):\n",
    "    low= 0\n",
    "    high = len(arr)-1\n",
    "    \n",
    "    while low<=high:\n",
    "        mid = (low+high)//2\n",
    "        \n",
    "        ## conditions\n",
    "        if arr[mid]==target:\n",
    "            return 1\n",
    "        elif arr[mid]>target:\n",
    "            high= mid-1\n",
    "        else:\n",
    "            low = mid+1\n",
    "    return -1"
   ]
  },
  {
   "cell_type": "code",
   "execution_count": 3,
   "metadata": {},
   "outputs": [
    {
     "data": {
      "text/plain": [
       "1"
      ]
     },
     "execution_count": 3,
     "metadata": {},
     "output_type": "execute_result"
    }
   ],
   "source": [
    "Binsearch([2,3,5,7,9], 7)"
   ]
  },
  {
   "cell_type": "markdown",
   "metadata": {},
   "source": [
    "## recursive "
   ]
  },
  {
   "cell_type": "code",
   "execution_count": 4,
   "metadata": {},
   "outputs": [],
   "source": [
    "def Binsearch2(arr, target):\n",
    "\n",
    "    def binsearch(arr, target, low, high):\n",
    "        if low> high:\n",
    "            return -1\n",
    "        mid = (low+high)//2\n",
    "\n",
    "        ## conditions\n",
    "        if arr[mid]==target:\n",
    "            return 1\n",
    "        elif arr[mid] > target:\n",
    "            high = mid-1\n",
    "        else:\n",
    "            low = mid +1\n",
    "        return binsearch(arr, target, low, high)\n",
    "    return binsearch(arr, target, 0, len(arr)-1)"
   ]
  },
  {
   "cell_type": "code",
   "execution_count": 10,
   "metadata": {},
   "outputs": [
    {
     "data": {
      "text/plain": [
       "1"
      ]
     },
     "execution_count": 10,
     "metadata": {},
     "output_type": "execute_result"
    }
   ],
   "source": [
    "Binsearch2([2,3,5,7,9], 7)"
   ]
  },
  {
   "cell_type": "code",
   "execution_count": null,
   "metadata": {},
   "outputs": [],
   "source": []
  }
 ],
 "metadata": {
  "kernelspec": {
   "display_name": "Python 3",
   "language": "python",
   "name": "python3"
  },
  "language_info": {
   "codemirror_mode": {
    "name": "ipython",
    "version": 3
   },
   "file_extension": ".py",
   "mimetype": "text/x-python",
   "name": "python",
   "nbconvert_exporter": "python",
   "pygments_lexer": "ipython3",
   "version": "3.11.6"
  }
 },
 "nbformat": 4,
 "nbformat_minor": 2
}
